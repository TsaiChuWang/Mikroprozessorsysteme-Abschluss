{
 "cells": [
  {
   "cell_type": "code",
   "execution_count": 20,
   "metadata": {},
   "outputs": [],
   "source": [
    "from PIL import Image, ImageFilter"
   ]
  },
  {
   "cell_type": "code",
   "execution_count": 2,
   "metadata": {},
   "outputs": [],
   "source": [
    "def rotate_and_save(input_path, output_path, angle):\n",
    "    # Open the image file\n",
    "    img = Image.open(input_path)\n",
    "\n",
    "    # Rotate the image\n",
    "    rotated_img = img.rotate(angle)\n",
    "\n",
    "    # Save the rotated image\n",
    "    rotated_img.save(output_path)"
   ]
  },
  {
   "cell_type": "code",
   "execution_count": 4,
   "metadata": {},
   "outputs": [],
   "source": [
    "input_image_path = \"./ashley.jpg\"\n",
    "rotation_image_path = \"./ashley_rotation.jpg\"\n",
    "rotation_angle = -90  # specify the rotation angle in degrees\n",
    "\n",
    "rotate_and_save(input_image_path, rotation_image_path, rotation_angle)"
   ]
  },
  {
   "cell_type": "code",
   "execution_count": 5,
   "metadata": {},
   "outputs": [],
   "source": [
    "def crop_and_save(input_path, output_path, left, top, right, bottom):\n",
    "    # Open the image file\n",
    "    img = Image.open(input_path)\n",
    "    # Crop the image\n",
    "    cropped_img = img.crop((left, top, right, bottom))\n",
    "\n",
    "    # Save the cropped image\n",
    "    cropped_img.save(output_path)"
   ]
  },
  {
   "cell_type": "code",
   "execution_count": 9,
   "metadata": {},
   "outputs": [],
   "source": [
    "crop_image_path = \"./ashley_crop.jpg\"\n",
    "#  Define the cropping coordinates (left, top, right, bottom)\n",
    "crop_coordinates = (120, 0, 360, 240)\n",
    "\n",
    "crop_and_save(rotation_image_path, crop_image_path, *crop_coordinates)"
   ]
  },
  {
   "cell_type": "code",
   "execution_count": 11,
   "metadata": {},
   "outputs": [],
   "source": [
    "def scale_and_save(input_path, output_path, target_size=(96, 96)):\n",
    "    # Open the image file\n",
    "    img = Image.open(input_path)\n",
    "\n",
    "    # Resize the image to the target size\n",
    "    scaled_img = img.resize(target_size)\n",
    "\n",
    "    # Save the scaled image\n",
    "    scaled_img.save(output_path)"
   ]
  },
  {
   "cell_type": "code",
   "execution_count": 12,
   "metadata": {},
   "outputs": [],
   "source": [
    "scale_image_path = \"./ashley_scale.jpg\"\n",
    "target_size = (96, 96)\n",
    "\n",
    "scale_and_save(crop_image_path, scale_image_path, target_size)"
   ]
  },
  {
   "cell_type": "code",
   "execution_count": 21,
   "metadata": {},
   "outputs": [],
   "source": [
    "def edge_and_save(input_path, output_path, threshold=50):\n",
    "    image = Image.open(input_path).convert('L')  # Convert to grayscale\n",
    "    edges = image.filter(ImageFilter.FIND_EDGES)\n",
    "    # print()\n",
    "    binary_edges = edges.point(lambda x: 255 if x > threshold else 0)\n",
    "    binary_edges.save(output_path)"
   ]
  },
  {
   "cell_type": "code",
   "execution_count": 22,
   "metadata": {},
   "outputs": [],
   "source": [
    "# Example usage\n",
    "binary_image_path = \"./ashley_binary.jpg\"\n",
    "\n",
    "edge_and_save(scale_image_path, binary_image_path)"
   ]
  }
 ],
 "metadata": {
  "kernelspec": {
   "display_name": "Python 3",
   "language": "python",
   "name": "python3"
  },
  "language_info": {
   "codemirror_mode": {
    "name": "ipython",
    "version": 3
   },
   "file_extension": ".py",
   "mimetype": "text/x-python",
   "name": "python",
   "nbconvert_exporter": "python",
   "pygments_lexer": "ipython3",
   "version": "3.11.2"
  }
 },
 "nbformat": 4,
 "nbformat_minor": 2
}
