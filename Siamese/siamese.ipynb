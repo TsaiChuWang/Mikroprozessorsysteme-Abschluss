{
 "cells": [
  {
   "cell_type": "markdown",
   "metadata": {},
   "source": [
    "## Load Dataset"
   ]
  },
  {
   "cell_type": "code",
   "execution_count": 1,
   "metadata": {},
   "outputs": [],
   "source": [
    "import os\n",
    "import random\n",
    "from PIL import Image\n",
    "import numpy as np\n",
    "from sklearn.model_selection import train_test_split\n",
    "from sklearn.preprocessing import LabelEncoder"
   ]
  },
  {
   "cell_type": "code",
   "execution_count": 2,
   "metadata": {},
   "outputs": [],
   "source": [
    "def load_images_from_folder(folder):\n",
    "    images = []\n",
    "    labels = []\n",
    "    for label in os.listdir(folder):\n",
    "        label_folder = os.path.join(folder, label)\n",
    "        if os.path.isdir(label_folder):\n",
    "            for filename in os.listdir(label_folder):\n",
    "                img_path = os.path.join(label_folder, filename)\n",
    "                if os.path.isfile(img_path):\n",
    "                    images.append(np.array(Image.open(img_path)))\n",
    "                    labels.append(label)\n",
    "    return images, labels"
   ]
  },
  {
   "cell_type": "code",
   "execution_count": 3,
   "metadata": {},
   "outputs": [],
   "source": [
    "def split_train_test_data(images, labels, test_size=0.2, random_state=42):\n",
    "    le = LabelEncoder()\n",
    "    labels_encoded = le.fit_transform(labels)\n",
    "    X_train, X_test, Y_train, Y_test = train_test_split(images, labels_encoded, test_size=test_size, random_state=random_state)\n",
    "    return np.array(X_train), np.array(Y_train), np.array(X_test), np.array(Y_test)\n"
   ]
  },
  {
   "cell_type": "code",
   "execution_count": 4,
   "metadata": {},
   "outputs": [
    {
     "name": "stdout",
     "output_type": "stream",
     "text": [
      "X_train shape: (11200, 96, 96)\n",
      "Y_train shape: (11200,)\n",
      "X_test shape: (2800, 96, 96)\n",
      "Y_test shape: (2800,)\n"
     ]
    }
   ],
   "source": [
    "folder_path = \"/home/wtsaichu/Dokumente/Arbeitsplatz/Dataset/Dataset/Dataset_V1.2/Binary/\"\n",
    "images, labels = load_images_from_folder(folder_path)\n",
    "\n",
    "# Split data into training and testing sets\n",
    "X_train, Y_train, X_test, Y_test = split_train_test_data(images, labels, test_size=0.2, random_state=42)\n",
    "\n",
    "# Print the shapes of the resulting arrays\n",
    "print(\"X_train shape:\", X_train.shape)\n",
    "print(\"Y_train shape:\", Y_train.shape)\n",
    "print(\"X_test shape:\", X_test.shape)\n",
    "print(\"Y_test shape:\", Y_test.shape)"
   ]
  },
  {
   "cell_type": "code",
   "execution_count": 5,
   "metadata": {},
   "outputs": [
    {
     "ename": "",
     "evalue": "",
     "output_type": "error",
     "traceback": [
      "\u001b[1;31mThe Kernel crashed while executing code in the the current cell or a previous cell. Please review the code in the cell(s) to identify a possible cause of the failure. Click <a href='https://aka.ms/vscodeJupyterKernelCrash'>here</a> for more info. View Jupyter <a href='command:jupyter.viewOutput'>log</a> for further details."
     ]
    }
   ],
   "source": [
    "import tensorflow as tf\n",
    "# from tensorflow import keras\n",
    "# from keras.models import Sequential\n",
    "# from keras.layers.convolutional import Conv2D, MaxPooling2D\n",
    "# from keras.layers import Dense, Flatten, Dropout\n",
    " \n",
    "# print(tf.__version__)\n",
    " \n",
    "# model = Sequential()\n",
    "# model.add(Conv2D(32, (5, 5), activation='relu', input_shape=(96, 96, 1))) \n",
    "# model.add(MaxPooling2D((2, 2)))\n",
    "# model.add(Dropout(0.2))\n",
    "# model.add(Conv2D(64, (3, 3), activation='relu')) \n",
    "# model.add(MaxPooling2D((2, 2)))\n",
    "# model.add(Dropout(0.2))\n",
    "# model.add(Conv2D(64, (3, 3), activation='relu'))\n",
    "# model.add(MaxPooling2D((2, 2)))\n",
    "# model.add(Flatten())\n",
    "# model.add(Dense(128, activation='relu'))\n",
    "# model.add(Dense(6, activation='softmax'))\n",
    " \n",
    "# model.compile(optimizer='adam',loss='sparse_categorical_crossentropy',metrics=['accuracy'])\n",
    " \n",
    "# model.summary()"
   ]
  }
 ],
 "metadata": {
  "kernelspec": {
   "display_name": "Python 3",
   "language": "python",
   "name": "python3"
  },
  "language_info": {
   "codemirror_mode": {
    "name": "ipython",
    "version": 3
   },
   "file_extension": ".py",
   "mimetype": "text/x-python",
   "name": "python",
   "nbconvert_exporter": "python",
   "pygments_lexer": "ipython3",
   "version": "3.11.2"
  }
 },
 "nbformat": 4,
 "nbformat_minor": 2
}
